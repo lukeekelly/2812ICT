{
 "cells": [
  {
   "cell_type": "markdown",
   "id": "5829934b",
   "metadata": {},
   "source": [
    "QUESTION 1/\n",
    "\n",
    "Where G = H * F"
   ]
  },
  {
   "attachments": {
    "Capture.PNG": {
     "image/png": "[encoded data removed]"
    }
   },
   "cell_type": "markdown",
   "id": "45ebb1d6",
   "metadata": {},
   "source": [
    "![Capture.PNG](attachment:Capture.PNG)"
   ]
  },
  {
   "cell_type": "markdown",
   "id": "5c176b69",
   "metadata": {},
   "source": [
    "Using Associative law G = F * H\n",
    "\n",
    "G[i,j] = k(sum)u=-k k(sum)v=-k F[u,v]H[i - u, j - v]\n",
    "\n",
    "QUESTION 2/\n",
    "\n",
    "Showing the equation for a 2D convolution using the g[n,m] as our 3x3 filter:\n",
    "g[n,m] = 1/9 n+1(sum)k=n-1 m+1(sum)l=m-1 f[k,l]\n",
    "\n",
    "new image[x,y] = 1(sum)j=-1 1(sum) i=-1 g[i,j] f[i-1, j-1]"
   ]
  },
  {
   "cell_type": "markdown",
   "id": "1cc7a837",
   "metadata": {},
   "source": [
    "QUESTION 3/"
   ]
  },
  {
   "cell_type": "code",
   "execution_count": null,
   "id": "417c178f",
   "metadata": {},
   "outputs": [],
   "source": []
  }
 ],
 "metadata": {
  "kernelspec": {
   "display_name": "Python 3 (ipykernel)",
   "language": "python",
   "name": "python3"
  },
  "language_info": {
   "codemirror_mode": {
    "name": "ipython",
    "version": 3
   },
   "file_extension": ".py",
   "mimetype": "text/x-python",
   "name": "python",
   "nbconvert_exporter": "python",
   "pygments_lexer": "ipython3",
   "version": "3.7.0"
  }
 },
 "nbformat": 4,
 "nbformat_minor": 5
}
